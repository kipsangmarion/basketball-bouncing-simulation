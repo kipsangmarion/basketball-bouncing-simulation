{
 "cells": [
  {
   "cell_type": "markdown",
   "id": "e1ee96e0",
   "metadata": {},
   "source": [
    "## Simulation of a Bouncing Basketball"
   ]
  },
  {
   "cell_type": "markdown",
   "id": "4078e887",
   "metadata": {},
   "source": [
    "### Aim\n",
    "To show the trajectory of a bouncing ball as it loses energy to the point where it stops"
   ]
  },
  {
   "cell_type": "markdown",
   "id": "e40dc22d",
   "metadata": {},
   "source": [
    "### Description of the projectile motion\n",
    "* The ball falls and bounces off the surface of the ground then travels upwards towards its highest point but not reaching the original height it had fallen from\n",
    "* The ball decelerates, changes direction once it has reached its peak and starts falling to the ground\n",
    "* The ball is momentarily deformed, and bounces off the ground in an upward direction.\n",
    "* The ball experiences damping, where it loses potential energy and kinetic energy as it falls, leading to reduction in maximum height over time and eventually coming to a stop due to friction forces like air resistance (which is assumed to be zero in an ideal scenareo)\n",
    "* At the point of maximum height, the ball momentarily has zero velocity and he direction of velocity changes from positive to negative, acceleration, which is gravity, acts downward on the ball\n",
    "* At the lowest point, the ball has minimum potential energy, velocity changes from negative to positive.\n",
    "* Potential energy causes the ball to hit the floor and is the converted to kinetic energy and causes the ball to move upward. This is described by Newton's third law of motion\n",
    "* This motion of a bouncing ball can be describes using a geometric sequence"
   ]
  },
  {
   "cell_type": "markdown",
   "id": "9fcc422c",
   "metadata": {},
   "source": [
    "### Assumptions\n",
    "1. Velocity and acceleration are stricly vertical and linear. The basketball is not travelling horizontally or rotating\n",
    "2. Negligible loss to air resistance\n",
    "3. Impact time is independent of impact velocity"
   ]
  },
  {
   "cell_type": "markdown",
   "id": "ab343796",
   "metadata": {},
   "source": [
    "### Equations governing the motion\n",
    "* current velocity is given by:\n",
    "       $$ v = v_0 - gt $$\n",
    "* height after last bounce at t<sub>0</sub> where velocity after last bounce is v<sub>0</sub>\n",
    "       $$ h(t+t_0) = v_0t - \\frac{1}{2}gt^2 $$\n",
    "* Time spent in the air until the next bounce is given by \n",
    "       $$ t_1 = 2\\frac{v_1}{g} = 2\\rho\\frac{v_0}{g}$$\n",
    "       $\\rho$ = coifficient of restitution(accounting for loss of energy after bounce)"
   ]
  },
  {
   "cell_type": "code",
   "execution_count": 3,
   "id": "da425fe0",
   "metadata": {},
   "outputs": [
    {
     "name": "stdout",
     "output_type": "stream",
     "text": [
      "Bounce 1 - Height: 2.00 m\n",
      "Bounce 2 - Height: 2.00 m\n",
      "Bounce 3 - Height: 2.00 m\n",
      "Bounce 4 - Height: 2.00 m\n",
      "Bounce 5 - Height: 2.00 m\n"
     ]
    },
    {
     "data": {
      "image/png": "[encoded data removed]",
      "text/plain": [
       "<Figure size 432x288 with 1 Axes>"
      ]
     },
     "metadata": {
      "needs_background": "light"
     },
     "output_type": "display_data"
    }
   ],
   "source": [
    "import math\n",
    "import matplotlib.pyplot as plt\n",
    "\n",
    "# constants\n",
    "init_v = 10\n",
    "init_h = 2\n",
    "g = 9.8\n",
    "elasticity = 0.8\n",
    "\n",
    "# parameters\n",
    "bounces = 5\n",
    "\n",
    "# lists to store time and height values for plotting\n",
    "time_values = []\n",
    "height_values = []\n",
    "\n",
    "# variable initialization\n",
    "t = 0\n",
    "h = init_h\n",
    "v = init_v\n",
    "momentum = v\n",
    "\n",
    "# simulation\n",
    "for bounce in range(1, bounces+1):\n",
    "    print('Bounce {} - Height: {:.2f} m'.format(bounce, h))\n",
    "\n",
    "     # append time and height values\n",
    "    time_values.append(t)\n",
    "    height_values.append(h)\n",
    "    \n",
    "    # time of flight\n",
    "    time = 2 * v / g\n",
    "    \n",
    "    # update h using h = h0 + vo*t +.5*g*t^2\n",
    "    h = init_h + v * time - 0.5 * g * time**2\n",
    "    \n",
    "    # update v using conservation of momentum\n",
    "    v = -elasticity * v\n",
    "    \n",
    "    # update momentum\n",
    "    momentum = v\n",
    "    \n",
    "    # increment time\n",
    "    t = t + time\n",
    "    \n",
    "    # check if ball has come to rest\n",
    "    if v == 0:\n",
    "        print('Ball has come to rest.')\n",
    "        break \n",
    "\n",
    "# plot time against height\n",
    "plt.plot(time_values, height_values, marker='o')\n",
    "plt.title('Time vs. Height')\n",
    "plt.xlabel('Time (s)')\n",
    "plt.ylabel('Height (m)')\n",
    "plt.grid(True)\n",
    "plt.show()"
   ]
  },
  {
   "cell_type": "code",
   "execution_count": null,
   "id": "a95a92b9-3415-4e60-b7f2-34eb887a8fde",
   "metadata": {},
   "outputs": [],
   "source": []
  }
 ],
 "metadata": {
  "kernelspec": {
   "display_name": "Python 3 (ipykernel)",
   "language": "python",
   "name": "python3"
  },
  "language_info": {
   "codemirror_mode": {
    "name": "ipython",
    "version": 3
   },
   "file_extension": ".py",
   "mimetype": "text/x-python",
   "name": "python",
   "nbconvert_exporter": "python",
   "pygments_lexer": "ipython3",
   "version": "3.10.12"
  }
 },
 "nbformat": 4,
 "nbformat_minor": 5
}
