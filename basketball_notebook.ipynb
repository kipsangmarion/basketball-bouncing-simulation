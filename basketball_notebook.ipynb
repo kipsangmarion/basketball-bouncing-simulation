{
 "cells": [
  {
   "cell_type": "markdown",
   "id": "e1ee96e0",
   "metadata": {},
   "source": [
    "## Simulation of a Bouncing Basketball"
   ]
  },
  {
   "cell_type": "markdown",
   "id": "4078e887",
   "metadata": {},
   "source": [
    "### Aim\n",
    "To show the trajectory of a bouncing ball as it loses energy to the point where it stops"
   ]
  },
  {
   "cell_type": "markdown",
   "id": "e40dc22d",
   "metadata": {},
   "source": [
    "### Description of the projectile motion\n",
    "* The ball falls and bounces off the surface of the ground then travels upwards towards its highest point but not reaching the original height it had fallen from\n",
    "* The ball decelerates, changes direction once it has reached its peak and starts falling to the ground\n",
    "* The ball is momentarily deformed, and bounces off the ground in an upward direction.\n",
    "* The ball experiences damping, where it loses potential energy and kinetic energy as it falls, leading to reduction in maximum height over time and eventually coming to a stop due to friction forces like air resistance (which is assumed to be zero in an ideal scenareo)\n",
    "* At the point of maximum height, the ball momentarily has zero velocity and he direction of velocity changes from positive to negative, acceleration, which is gravity, acts downward on the ball\n",
    "* At the lowest point, the ball has minimum potential energy, velocity changes from negative to positive.\n",
    "* Potential energy causes the ball to hit the floor and is the converted to kinetic energy and causes the ball to move upward. This is described by Newton's third law of motion\n",
    "* This motion of a bouncing ball can be describes using a geometric sequence"
   ]
  },
  {
   "cell_type": "markdown",
   "id": "9fcc422c",
   "metadata": {},
   "source": [
    "### Assumptions\n",
    "1. Velocity and acceleration are stricly vertical and linear. The basketball is not travelling horizontally or rotating\n",
    "2. Negligible loss to air resistance\n",
    "3. Impact time is independent of impact velocity"
   ]
  },
  {
   "cell_type": "markdown",
   "id": "ab343796",
   "metadata": {},
   "source": [
    "### Equations governing the motion\n",
    "* current velocity is given by:\n",
    "       $$ v = v_0 - gt $$\n",
    "* height after last bounce at t<sub>0</sub> where velocity after last bounce is v<sub>0</sub>\n",
    "       $$ h(t+t_0) = v_0t - \\frac{1}{2}gt^2 $$\n",
    "* Time spent in the air until the next bounce is given by \n",
    "       $$ t_1 = 2\\frac{v_1}{g} = 2\\rho\\frac{v_0}{g}$$\n",
    "       $\\rho$ = coifficient of restitution(accounting for loss of energy after bounce)"
   ]
  },
  {
   "cell_type": "code",
   "execution_count": null,
   "id": "da425fe0",
   "metadata": {
    "scrolled": false
   },
   "outputs": [],
   "source": [
    "import math\n",
    "import matplotlib.pyplot as plt\n",
    "\n",
    "\n",
    "def bouncing_simulation(position, coefficient_of_restitution, time_interval):\n",
    "    gravity = 9.8\n",
    "    time = 0\n",
    "    velocity = 0\n",
    "    max_position = position\n",
    "    min_position = 1\n",
    "    \n",
    "    time_data = []\n",
    "    position_data = []\n",
    "    \n",
    "    while max_position > min_position:\n",
    "        time = math.sqrt((2 * position) / gravity) # time taken to reach ground\n",
    "        velocity = gravity * time # velocity at impact\n",
    "        velocity = -coefficient_of_restitution * velocity # velocity after bouncing   \n",
    "        max_time = math.sqrt((2 * max_position) / gravity) # time taken to reach maximum height after bouncing\n",
    "        \n",
    "        # values at any time after bouncing\n",
    "        for i in range(int(max_time)):\n",
    "            time += 1\n",
    "            position = max_position - 0.5 * gravity * (time - max_time) ** 2)\n",
    "            \n",
    "            if time % time_interval == 0\n",
    "                time_data.append(time)\n",
    "                position_data.append(position)\n",
    "        \n",
    "        max_position = position # update maximum height for next bounce\n",
    "        \n",
    "        if max_position <= min_position:\n",
    "            break\n",
    "        \n",
    "    return time_data, position_data\n",
    "\n",
    "def plot_position_time(time_data, position_data):\n",
    "    plt.plot(time_data, position_data)\n",
    "    plt.xlabel('Time(s)')\n",
    "    plt.ylabel('Position(m)')\n",
    "    plt.title('Position of a bouncing ball over time')\n",
    "    plt.grid(True)\n",
    "    plt.show()\n",
    "    \n",
    "def simulation_run(initial_position, damping_factor, time_interval):\n",
    "    time_data, position_data = bouncing_simulation(initial_position, damping_factor, time_interval)\n",
    "    plot_position_time(time_data, position_data)\n",
    "\n",
    "# Example simulation\n",
    "initial_position = 10\n",
    "damping_factor = 0.8\n",
    "time_interval = 1\n",
    "\n",
    "simulation_run(initial_position, damping_factor, time_interval)"
   ]
  },
  {
   "cell_type": "markdown",
   "id": "92999474",
   "metadata": {},
   "source": [
    "To iterate the model with multiple values of height and velocity"
   ]
  },
  {
   "cell_type": "code",
   "execution_count": null,
   "id": "9ffccf93",
   "metadata": {},
   "outputs": [],
   "source": []
  }
 ],
 "metadata": {
  "kernelspec": {
   "display_name": "Python 3 (ipykernel)",
   "language": "python",
   "name": "python3"
  },
  "language_info": {
   "codemirror_mode": {
    "name": "ipython",
    "version": 3
   },
   "file_extension": ".py",
   "mimetype": "text/x-python",
   "name": "python",
   "nbconvert_exporter": "python",
   "pygments_lexer": "ipython3",
   "version": "3.11.3"
  }
 },
 "nbformat": 4,
 "nbformat_minor": 5
}
