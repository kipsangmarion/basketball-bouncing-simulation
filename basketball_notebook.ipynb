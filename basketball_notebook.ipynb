{
 "cells": [
  {
   "cell_type": "markdown",
   "id": "e1ee96e0",
   "metadata": {},
   "source": [
    "## Simulation of a Bouncing Basketball"
   ]
  },
  {
   "cell_type": "markdown",
   "id": "4078e887",
   "metadata": {},
   "source": [
    "### Aim\n",
    "To show the trajectory of a bouncing ball as it loses energy to the point where it stops"
   ]
  },
  {
   "cell_type": "markdown",
   "id": "e40dc22d",
   "metadata": {},
   "source": [
    "### Description of the projectile motion\n",
    "* The ball falls and bounces off the surface of the ground then travels upwards towards its highest point but not reaching the original height it had fallen from\n",
    "* The ball decelerates, changes direction once it has reached its peak and starts falling to the ground\n",
    "* The ball is momentarily deformed, and bounces off the ground in an upward direction.\n",
    "* The ball experiences damping, where it loses potential energy and kinetic energy as it falls, leading to reduction in maximum height over time and eventually coming to a stop due to friction forces like air resistance (which is assumed to be zero in an ideal scenareo)\n",
    "* At the point of maximum height, the ball momentarily has zero velocity and he direction of velocity changes from positive to negative, acceleration, which is gravity, acts downward on the ball\n",
    "* At the lowest point, the ball has minimum potential energy, velocity changes from negative to positive.\n",
    "* Potential energy causes the ball to hit the floor and is the converted to kinetic energy and causes the ball to move upward. This is described by Newton's third law of motion\n",
    "* This motion of a bouncing ball can be describes using a geometric sequence"
   ]
  },
  {
   "cell_type": "markdown",
   "id": "9fcc422c",
   "metadata": {},
   "source": [
    "### Assumptions\n",
    "1. Velocity and acceleration are stricly vertical and linear. The basketball is not travelling horizontally or rotating\n",
    "2. Negligible loss to air resistance"
   ]
  },
  {
   "cell_type": "markdown",
   "id": "ab343796",
   "metadata": {},
   "source": [
    "### Equations governing the motion\n",
    "* height after last bounce at t<sub>0</sub> where velocity after last bounce is v<sub>0</sub>\n",
    "       $$ h(t+t_0) = v_0 - \\frac{1}{2}gt^2 $$"
   ]
  },
  {
   "cell_type": "code",
   "execution_count": null,
   "id": "da425fe0",
   "metadata": {},
   "outputs": [],
   "source": [
    "import matplotlib.pyplot as plt\n",
    "from math import sqrt\n",
    "\n",
    "def bouncing_ball_simulation(init_position, init_velocity):\n",
    "    # paremeters for the simulation\n",
    "    gravity = 9.8\n",
    "    energy_loss_factor = 0.8\n",
    "    contact_time = 0.10\n",
    "    \n",
    "    # init lists for position and time\n",
    "    positions=[init_position]\n",
    "    times=[0.0]\n",
    "    \n",
    "    # loop that performs the simulation\n",
    "    max_position = init_position\n",
    "    position = init_position\n",
    "    stop_position = 0.01\n",
    "    freefall = True\n",
    "    last_time = - sqrt(2 * init_position / gravity)\n",
    "    velocity = init_velocity\n",
    "    max_velocity = sqrt( 2 * max_position * gravity)\n",
    "    time = 0\n",
    "    dt = 0.01\n",
    "    \n",
    "    while max_position > stop_position:\n",
    "        if freefall:\n",
    "            new_position = position + velocity * dt - 0.5 * gravity * dt * dt\n",
    "            if new_position < 0:\n",
    "                time = last_time + 2 * sqrt(2*max_position/gravity)\n",
    "                freefall = False\n",
    "                last_time = time + contact_time\n",
    "                position = 0\n",
    "            else:\n",
    "                time = time + dt\n",
    "                velocity = velocity - gravity*dt\n",
    "                position = new_position\n",
    "        else:\n",
    "            time = time + contact_time\n",
    "            max_velocity = max_velocity * energy_loss_factor\n",
    "            velocity = max_velocity\n",
    "            freefall = True\n",
    "            position = 0\n",
    "            \n",
    "        # save positions and time\n",
    "        positions.append(position)\n",
    "        times.append(time)\n",
    "        \n",
    "    return positions, times\n",
    "\n",
    "# setting init conditions, height in m, initial velocity in m/s and number of bounces to simulate\n",
    "init_position = 10.0\n",
    "init_velocity = 0.0\n",
    "\n",
    "# simulate\n",
    "positions, times = bouncing_ball_simulation(init_position, init_velocity)\n",
    "\n",
    "# plot\n",
    "plt.plot(times, positions)\n",
    "plt.xlabel('time(s)')\n",
    "plt.ylabel('position(m)')\n",
    "plt.title('bouncing basketball')\n",
    "plt.grid(True)\n",
    "plt.show()"
   ]
  },
  {
   "cell_type": "code",
   "execution_count": null,
   "id": "f02f094a",
   "metadata": {},
   "outputs": [],
   "source": []
  }
 ],
 "metadata": {
  "kernelspec": {
   "display_name": "Python 3 (ipykernel)",
   "language": "python",
   "name": "python3"
  },
  "language_info": {
   "codemirror_mode": {
    "name": "ipython",
    "version": 3
   },
   "file_extension": ".py",
   "mimetype": "text/x-python",
   "name": "python",
   "nbconvert_exporter": "python",
   "pygments_lexer": "ipython3",
   "version": "3.11.3"
  }
 },
 "nbformat": 4,
 "nbformat_minor": 5
}
