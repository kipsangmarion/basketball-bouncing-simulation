{
 "cells": [
  {
   "cell_type": "markdown",
   "id": "65710824",
   "metadata": {},
   "source": [
    "## Animating a bouncing basketball"
   ]
  },
  {
   "cell_type": "code",
   "execution_count": 1,
   "id": "da1dd858",
   "metadata": {},
   "outputs": [
    {
     "name": "stdout",
     "output_type": "stream",
     "text": [
      "Defaulting to user installation because normal site-packages is not writeable\n",
      "Requirement already satisfied: pygame in /usr/lib/python3.11/site-packages (2.1.3)\n"
     ]
    }
   ],
   "source": [
    "!pip install pygame"
   ]
  },
  {
   "cell_type": "code",
   "execution_count": 2,
   "id": "497a9f40",
   "metadata": {},
   "outputs": [
    {
     "name": "stdout",
     "output_type": "stream",
     "text": [
      "pygame 2.1.3 (SDL 2.26.5, Python 3.11.3)\n",
      "Hello from the pygame community. https://www.pygame.org/contribute.html\n"
     ]
    },
    {
     "ename": "TypeError",
     "evalue": "'tuple' object does not support item assignment",
     "output_type": "error",
     "traceback": [
      "\u001b[0;31m---------------------------------------------------------------------------\u001b[0m",
      "\u001b[0;31mTypeError\u001b[0m                                 Traceback (most recent call last)",
      "Cell \u001b[0;32mIn[2], line 28\u001b[0m\n\u001b[1;32m     25\u001b[0m         running \u001b[38;5;241m=\u001b[39m \u001b[38;5;28;01mFalse\u001b[39;00m\n\u001b[1;32m     27\u001b[0m \u001b[38;5;66;03m# update position\u001b[39;00m\n\u001b[0;32m---> 28\u001b[0m \u001b[43mposition\u001b[49m\u001b[43m[\u001b[49m\u001b[38;5;241;43m0\u001b[39;49m\u001b[43m]\u001b[49m \u001b[38;5;241m+\u001b[39m\u001b[38;5;241m=\u001b[39m velocity[\u001b[38;5;241m0\u001b[39m]\n\u001b[1;32m     29\u001b[0m position[\u001b[38;5;241m1\u001b[39m] \u001b[38;5;241m+\u001b[39m\u001b[38;5;241m=\u001b[39m velocity[\u001b[38;5;241m1\u001b[39m]\n\u001b[1;32m     31\u001b[0m \u001b[38;5;66;03m# collisions with edges\u001b[39;00m\n",
      "\u001b[0;31mTypeError\u001b[0m: 'tuple' object does not support item assignment"
     ]
    }
   ],
   "source": [
    "import pygame\n",
    "import random\n",
    "\n",
    "pygame.init()\n",
    "\n",
    "# the display\n",
    "width, height = 800,600\n",
    "screen = pygame.display.set_mode((width, height))\n",
    "pygame.display.set_caption(\"Basketball bouncing\")\n",
    "\n",
    "# basketball properties\n",
    "radius = 30\n",
    "color = (255,140,0)\n",
    "position = (width//2,height//2)\n",
    "velocity = [random.randint(-5,5),random.randint(-5,5)]\n",
    "\n",
    "# clock\n",
    "clock = pygame.time.Clock()\n",
    "\n",
    "# game loop\n",
    "running = True\n",
    "while running:\n",
    "    for event in pygame.event.get():\n",
    "        if event.type == pygame.QUIT:\n",
    "            running = False\n",
    "            \n",
    "    # update position\n",
    "    position[0] += velocity[0]\n",
    "    position[1] += velocity[1]\n",
    "    \n",
    "    # collisions with edges\n",
    "    if position[0] < radius or position[0] > width - radius:\n",
    "        velocity[0] = -velocity[0]\n",
    "    if position[1] < radius or position[1] > height - radius:\n",
    "        velocity[1] = -velocity[1]\n",
    "        \n",
    "    # clear screen \n",
    "    screen.fill((0,0,0))\n",
    "    \n",
    "    # draw basketball\n",
    "    pygame.draw.circle(screen, color, position, radius)\n",
    "    \n",
    "    # update display\n",
    "    pygame.display.flip()\n",
    "    \n",
    "    # limit frame rate\n",
    "    clock.tick(60)\n",
    "    \n",
    "# end game\n",
    "pygame.quit()"
   ]
  },
  {
   "cell_type": "code",
   "execution_count": null,
   "id": "fdbfdeca",
   "metadata": {},
   "outputs": [],
   "source": []
  }
 ],
 "metadata": {
  "kernelspec": {
   "display_name": "Python 3 (ipykernel)",
   "language": "python",
   "name": "python3"
  },
  "language_info": {
   "codemirror_mode": {
    "name": "ipython",
    "version": 3
   },
   "file_extension": ".py",
   "mimetype": "text/x-python",
   "name": "python",
   "nbconvert_exporter": "python",
   "pygments_lexer": "ipython3",
   "version": "3.11.3"
  }
 },
 "nbformat": 4,
 "nbformat_minor": 5
}
