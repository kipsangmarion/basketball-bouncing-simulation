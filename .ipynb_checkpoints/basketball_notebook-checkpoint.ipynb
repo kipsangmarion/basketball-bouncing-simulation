{
 "cells": [
  {
   "cell_type": "markdown",
   "id": "e1ee96e0",
   "metadata": {},
   "source": [
    "## Simulation of a Bouncing Basketball"
   ]
  },
  {
   "cell_type": "markdown",
   "id": "4078e887",
   "metadata": {},
   "source": [
    "### Aim\n",
    "To show the trajectory of a bouncing ball as it loses energy to the point where it stops"
   ]
  },
  {
   "cell_type": "markdown",
   "id": "e40dc22d",
   "metadata": {},
   "source": [
    "### Description of the projectile motion\n",
    "* The ball falls and bounces off the surface of the ground then travels upwards towards its highest point but not reaching the original height it had fallen from\n",
    "* The ball decelerates, changes direction once it has reached its peak and starts falling to the ground\n",
    "* The ball is momentarily deformed, and bounces off the ground in an upward direction.\n",
    "* The ball experiences damping, where it loses potential energy and kinetic energy as it falls, leading to reduction in maximum height over time and eventually coming to a stop due to friction forces like air resistance (which is assumed to be zero in an ideal scenareo)\n",
    "* At the point of maximum height, the ball momentarily has zero velocity and he direction of velocity changes from positive to negative, acceleration, which is gravity, acts downward on the ball\n",
    "* At the lowest point, the ball has minimum potential energy, velocity changes from negative to positive.\n",
    "* Potential energy causes the ball to hit the floor and is the converted to kinetic energy and causes the ball to move upward. This is described by Newton's third law of motion\n",
    "* This motion of a bouncing ball can be describes using a geometric sequence"
   ]
  },
  {
   "cell_type": "markdown",
   "id": "9fcc422c",
   "metadata": {},
   "source": [
    "### Assumptions\n",
    "1. Velocity and acceleration are stricly vertical and linear. The basketball is not travelling horizontally or rotating\n",
    "2. Negligible loss to air resistance\n",
    "3. Impact time is independent of impact velocity"
   ]
  },
  {
   "cell_type": "markdown",
   "id": "ab343796",
   "metadata": {},
   "source": [
    "### Equations governing the motion\n",
    "* current velocity is given by:\n",
    "       $$ v = v_0 - gt $$\n",
    "* height after last bounce at t<sub>0</sub> where velocity after last bounce is v<sub>0</sub>\n",
    "       $$ h(t+t_0) = v_0t - \\frac{1}{2}gt^2 $$\n",
    "* Time spent in the air until the next bounce is given by \n",
    "       $$ t_1 = 2\\frac{v_1}{g} = 2\\rho\\frac{v_0}{g}$$\n",
    "       $\\rho$ = coifficient of restitution(accounting for loss of energy after bounce)"
   ]
  },
  {
   "cell_type": "code",
   "execution_count": 35,
   "id": "da425fe0",
   "metadata": {
    "scrolled": false
   },
   "outputs": [
    {
     "data": {
      "image/png": "[encoded data removed]",
      "text/plain": [
       "<Figure size 640x480 with 1 Axes>"
      ]
     },
     "metadata": {},
     "output_type": "display_data"
    }
   ],
   "source": [
    "import matplotlib.pyplot as plt\n",
    "\n",
    "\n",
    "def bouncing_simulation(initial_position, coefficient_of_restitution, time_step, simulation_duration):\n",
    "    time = [0]\n",
    "    position_data = [initial_position]\n",
    "    velocity_data = [0]\n",
    "    num_bounces = 0\n",
    "    \n",
    "    while position_data[-1]>0:\n",
    "        current_time = time[-1] + time_step\n",
    "        position = initial_position + velocity_data[-1] * current_time - 0.5 * 9.8 * current_time**2\n",
    "        velocity = velocity_data[-1] - 9.8 * time_step\n",
    "        \n",
    "        if position < 0:\n",
    "            position = 0\n",
    "            velocity *= -coefficient_of_restitution\n",
    "        \n",
    "        time.append(current_time)\n",
    "        position_data.append(position)\n",
    "        velocity_data.append(velocity)\n",
    "        \n",
    "        if num_bounces >= 10:\n",
    "            break\n",
    "        \n",
    "    return time, position_data, velocity_data\n",
    "\n",
    "def results(time, position_data):\n",
    "    fig, ax1 = plt.subplots()\n",
    "    \n",
    "    plt.plot(time, position_data, 'b-')\n",
    "    plt.xlabel('Time')\n",
    "    plt.ylabel('Position')\n",
    "    plt.title('Simulation of a Bouncing Ball')\n",
    "    plt.show()\n",
    "    \n",
    "def simulation_run():\n",
    "    initial_position = 10\n",
    "    coefficient_of_restitution = 0.75\n",
    "    time_step = 0.1\n",
    "    simulation_duration = 20000\n",
    "    \n",
    "    time, position_data, velocity_data = bouncing_simulation(initial_position, coefficient_of_restitution, time_step, simulation_duration)\n",
    "    results(time, position_data)\n",
    "    \n",
    "simulation_run()"
   ]
  },
  {
   "cell_type": "markdown",
   "id": "92999474",
   "metadata": {},
   "source": [
    "To iterate the model with multiple values of height and velocity"
   ]
  },
  {
   "cell_type": "code",
   "execution_count": null,
   "id": "9ffccf93",
   "metadata": {},
   "outputs": [],
   "source": []
  }
 ],
 "metadata": {
  "kernelspec": {
   "display_name": "Python 3 (ipykernel)",
   "language": "python",
   "name": "python3"
  },
  "language_info": {
   "codemirror_mode": {
    "name": "ipython",
    "version": 3
   },
   "file_extension": ".py",
   "mimetype": "text/x-python",
   "name": "python",
   "nbconvert_exporter": "python",
   "pygments_lexer": "ipython3",
   "version": "3.11.3"
  }
 },
 "nbformat": 4,
 "nbformat_minor": 5
}
