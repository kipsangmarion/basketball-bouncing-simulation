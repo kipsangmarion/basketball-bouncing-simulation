{
 "cells": [
  {
   "cell_type": "code",
   "execution_count": 2,
   "id": "ea11e75d",
   "metadata": {},
   "outputs": [
    {
     "data": {
      "image/png": "[encoded data removed]",
      "text/plain": [
       "<Figure size 640x480 with 1 Axes>"
      ]
     },
     "metadata": {},
     "output_type": "display_data"
    },
    {
     "name": "stdout",
     "output_type": "stream",
     "text": [
      "Number of bounces: 0\n"
     ]
    }
   ],
   "source": [
    "import math\n",
    "import matplotlib.pyplot as plt\n",
    "\n",
    "def track_motion(h, e, min_height, time_interval, max_iterations):\n",
    "    g = 9.8  # acceleration due to gravity\n",
    "\n",
    "    # Initial conditions\n",
    "    t = 0  # time\n",
    "    v = 0  # velocity\n",
    "    h_max = h  # maximum height\n",
    "    \n",
    "    times = []  # list to store time values\n",
    "    heights = []  # list to store height values\n",
    "    velocities = []  # list to store velocity values\n",
    "    \n",
    "    iteration = 0  # iteration counter\n",
    "    \n",
    "    while h_max > min_height and iteration < max_iterations:\n",
    "        # Time taken to reach the ground\n",
    "        t = math.sqrt((2 * h) / g)\n",
    "        \n",
    "        # Velocity at impact\n",
    "        v = g * t\n",
    "        \n",
    "        # Velocity after bouncing\n",
    "        v = -e * v\n",
    "        \n",
    "        # Time taken to reach maximum height after bouncing\n",
    "        t_max = math.sqrt((2 * h_max) / g)\n",
    "        \n",
    "        # Height, velocity, and time at any given time after bouncing\n",
    "        for i in range(int(t_max)):\n",
    "            t += 1\n",
    "            h = h_max - 0.5 * g * (t - t_max) ** 2\n",
    "            \n",
    "            if t % time_interval == 0:\n",
    "                times.append(t)\n",
    "                heights.append(h)\n",
    "                velocities.append(v)\n",
    "        \n",
    "        h_max = h  # Update maximum height for the next bounce\n",
    "        \n",
    "        iteration += 1  # Increment iteration counter\n",
    "\n",
    "    return times, heights, velocities\n",
    "\n",
    "def plot_height_velocity(heights, velocities):\n",
    "    # Plotting height against velocity\n",
    "    plt.plot(heights, velocities)\n",
    "    plt.xlabel(\"Height (m)\")\n",
    "    plt.ylabel(\"Velocity (m/s)\")\n",
    "    plt.title(\"Height vs Velocity\")\n",
    "    plt.grid(True)\n",
    "    plt.show()\n",
    "\n",
    "def simulate_bouncing_ball(initial_height, coefficient_of_restitution, minimum_height, time_interval, max_iterations=1000):\n",
    "    times, heights, velocities = track_motion(initial_height, coefficient_of_restitution, minimum_height, time_interval, max_iterations)\n",
    "    plot_height_velocity(heights, velocities)\n",
    "    \n",
    "    num_bounces = len(times)\n",
    "    print(f\"Number of bounces: {num_bounces}\")\n",
    "\n",
    "# Example simulation\n",
    "initial_height = 10  # meters\n",
    "coefficient_of_restitution = 0.8\n",
    "minimum_height = 1  # meters\n",
    "time_interval = 1  # seconds\n",
    "\n",
    "simulate_bouncing_ball(initial_height, coefficient_of_restitution, minimum_height, time_interval)\n"
   ]
  },
  {
   "cell_type": "code",
   "execution_count": null,
   "id": "ea3bf34e",
   "metadata": {},
   "outputs": [],
   "source": []
  }
 ],
 "metadata": {
  "kernelspec": {
   "display_name": "Python 3 (ipykernel)",
   "language": "python",
   "name": "python3"
  },
  "language_info": {
   "codemirror_mode": {
    "name": "ipython",
    "version": 3
   },
   "file_extension": ".py",
   "mimetype": "text/x-python",
   "name": "python",
   "nbconvert_exporter": "python",
   "pygments_lexer": "ipython3",
   "version": "3.11.3"
  }
 },
 "nbformat": 4,
 "nbformat_minor": 5
}
